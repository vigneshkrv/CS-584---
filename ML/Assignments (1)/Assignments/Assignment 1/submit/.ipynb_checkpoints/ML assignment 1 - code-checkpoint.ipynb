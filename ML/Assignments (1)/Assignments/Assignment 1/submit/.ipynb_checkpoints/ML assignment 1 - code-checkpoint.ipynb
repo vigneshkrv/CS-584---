{
 "cells": [
  {
   "cell_type": "code",
   "execution_count": 10,
   "metadata": {
    "scrolled": false
   },
   "outputs": [
    {
     "name": "stdout",
     "output_type": "stream",
     "text": [
      "[50.91 50.03 50.93 49.67 49.73 50.67 51.28 51.37 49.06 48.27 51.11 50.96\n",
      " 49.56 49.84 49.67 50.03 51.01 49.49 49.67 50.18 50.97 49.9  49.82 51.09\n",
      " 51.11 49.05 50.11 51.41 48.63 51.51 49.4  48.79 49.88 49.78 50.26 51.36\n",
      " 50.11 50.74 50.64 48.84 49.55 50.25 49.64 49.59 49.86 51.58 50.96 50.19\n",
      " 51.37 49.53 51.51 48.41 50.7  49.31 50.22 49.8  51.82 49.38 50.36 50.61\n",
      " 50.25 48.36 49.97 50.6  51.72 49.24 48.17 51.71 50.47 49.98 48.57 50.84\n",
      " 51.07 49.61 49.28 51.58 50.49 51.49 49.33 47.82 49.24 49.3  49.93 51.25\n",
      " 50.07 48.9  48.59 49.96 51.94 49.35 49.17 50.93 49.91 49.54 49.29 49.23\n",
      " 50.9  50.22 50.29 50.79]\n",
      "1.447499999999998\n",
      "h =  0.6237088427642294\n"
     ]
    }
   ],
   "source": [
    "import numpy as np\n",
    "import pandas as pd\n",
    "import math\n",
    "import matplotlib.pyplot as plt\n",
    "from numpy import linalg as LA\n",
    "import scipy\n",
    "from scipy import linalg as LA2\n",
    "from sklearn.neighbors import NearestNeighbors as kNN\n",
    "from sklearn.neighbors import KNeighborsClassifier\n",
    "from scipy.stats import iqr\n",
    "x, group = np.loadtxt('NormalSample.csv', delimiter = ',', unpack = True)\n",
    "print(x)\n",
    "print(iqr(x))\n",
    "h = (2*iqr(x))/np.cbrt(x.size)\n",
    "print(\"h = \",h)"
   ]
  },
  {
   "cell_type": "code",
   "execution_count": 11,
   "metadata": {},
   "outputs": [
    {
     "data": {
      "text/plain": [
       "0.1"
      ]
     },
     "execution_count": 11,
     "metadata": {},
     "output_type": "execute_result"
    }
   ],
   "source": [
    "u = np.log10(h)\n",
    "v = np.sign(u) * math.ceil(abs(u))\n",
    "h = np.power(10,v)\n",
    "print(h)"
   ]
  },
  {
   "cell_type": "code",
   "execution_count": 12,
   "metadata": {
    "scrolled": false
   },
   "outputs": [
    {
     "name": "stdout",
     "output_type": "stream",
     "text": [
      "[0.0, 0.0, 0.0, 0.0, 0.0, 0.02, 0.08, 0.12, 0.3, 0.46, 0.32, 0.3, 0.24, 0.16, 0.0, 0.0, 0.0, 0.0, 0.0, 0.0]\n",
      "[0.0, 0.0, 0.01, 0.1, 0.38, 0.31, 0.2, 0.0, 0.0, 0.0]\n",
      "[0.0, 0.055, 0.345, 0.1, 0.0]\n"
     ]
    },
    {
     "data": {
      "image/png": "[encoded data removed]",
      "text/plain": [
       "<Figure size 432x288 with 1 Axes>"
      ]
     },
     "metadata": {
      "needs_background": "light"
     },
     "output_type": "display_data"
    },
    {
     "data": {
      "image/png": "[encoded data removed]",
      "text/plain": [
       "<Figure size 432x288 with 1 Axes>"
      ]
     },
     "metadata": {
      "needs_background": "light"
     },
     "output_type": "display_data"
    },
    {
     "data": {
      "image/png": "[encoded data removed]",
      "text/plain": [
       "<Figure size 432x288 with 1 Axes>"
      ]
     },
     "metadata": {
      "needs_background": "light"
     },
     "output_type": "display_data"
    }
   ],
   "source": [
    "N  = x.size\n",
    "h = 0.5\n",
    "\n",
    "\n",
    "        \n",
    "def find_density_estimates(x,h):\n",
    "    min = 45\n",
    "    max = 55\n",
    "    mid_points = [min+h/2]\n",
    "    for i in range(1,x.size):\n",
    "        if(mid_points[i-1]+h <= max):\n",
    "            mid_points.append(mid_points[i-1]+h)\n",
    "            #print(mid_points[i])\n",
    "        else: break\n",
    "        \n",
    "    p = []\n",
    "    for i in range(len(mid_points)):\n",
    "        w_sum = 0\n",
    "        u = []\n",
    "        w = []\n",
    "        for j in range(x.size):\n",
    "            u.append((x[j] - mid_points[i])/h)            \n",
    "            if(u[j]>-0.5 and u[j] <= 0.5):\n",
    "                w.append(1)\n",
    "            else:\n",
    "                w.append(0)\n",
    "            w_sum = w_sum + w[j]\n",
    "        #print(w_sum)\n",
    "        p.append(w_sum / (x.size*h))\n",
    "        del u\n",
    "        del w\n",
    "    return p, mid_points\n",
    "\n",
    "p, mid_points = find_density_estimates(x,h)\n",
    "print(p)\n",
    "a = plt.figure(1)\n",
    "plt.bar(mid_points,p)\n",
    "a.show\n",
    "del p\n",
    "\n",
    "h = 1\n",
    "p, mid_points = find_density_estimates(x,h)\n",
    "print(p)\n",
    "a = plt.figure(2)\n",
    "plt.bar(mid_points,p)\n",
    "a.show\n",
    "del p\n",
    "\n",
    "h = 2\n",
    "p, mid_points = find_density_estimates(x,h)\n",
    "print(p)\n",
    "a = plt.figure(3)\n",
    "plt.bar(mid_points,p)\n",
    "a.show\n",
    "del p\n",
    "del x"
   ]
  },
  {
   "cell_type": "code",
   "execution_count": 13,
   "metadata": {},
   "outputs": [
    {
     "name": "stdout",
     "output_type": "stream",
     "text": [
      "47.82 [49.4675 50.03   50.915 ] 51.94\n",
      "47.82 49.295 50.22 50.96 51.94\n",
      "48.17 49.53 49.88 50.74 51.82\n"
     ]
    },
    {
     "name": "stderr",
     "output_type": "stream",
     "text": [
      "c:\\users\\suhas\\pyvenevs\\fall\\lib\\site-packages\\matplotlib\\figure.py:457: UserWarning: matplotlib is currently using a non-GUI backend, so cannot show the figure\n",
      "  \"matplotlib is currently using a non-GUI backend, \"\n"
     ]
    },
    {
     "data": {
      "image/png": "[encoded data removed]",
      "text/plain": [
       "<Figure size 432x288 with 1 Axes>"
      ]
     },
     "metadata": {
      "needs_background": "light"
     },
     "output_type": "display_data"
    },
    {
     "data": {
      "image/png": "[encoded data removed]",
      "text/plain": [
       "<Figure size 432x288 with 1 Axes>"
      ]
     },
     "metadata": {
      "needs_background": "light"
     },
     "output_type": "display_data"
    }
   ],
   "source": [
    "data = pd.read_csv(\"NormalSample_labelled.csv\")\n",
    "col_x = data.iloc[:,0]\n",
    "# calculate quartiles\n",
    "quartiles = np.percentile(col_x, [25, 50, 75])\n",
    "# calculate min/max\n",
    "data_min, data_max = col_x.min(), col_x.max()\n",
    "print(data_min,quartiles,data_max)\n",
    "\n",
    "grpBy = data.groupby('Group')\n",
    "groups = [grpBy.get_group(g) for g in grpBy.groups]\n",
    "\n",
    "g0_max = groups[0].iloc[:,0].max()\n",
    "g0_min = groups[0].iloc[:,0].min()\n",
    "g0_25, g0_50, g0_75 = np.percentile(groups[0].iloc[:,0], [25, 50, 75])\n",
    "print(g0_min,g0_25,g0_50,g0_75,g0_max)\n",
    "\n",
    "g1_max = groups[1].iloc[:,0].max()\n",
    "g1_min = groups[1].iloc[:,0].min()\n",
    "g1_25, g1_50, g1_75 = np.percentile(groups[1].iloc[:,0], [25, 50, 75])\n",
    "print(g1_min,g1_25,g1_50,g1_75,g1_max)\n",
    "\n",
    "box_fig = plt.figure(4)\n",
    "plt.boxplot(col_x)\n",
    "box_fig.show()\n",
    "\n",
    "box_plot = plt.figure(5)\n",
    "plt.boxplot([col_x, groups[0].iloc[:,0], groups[1].iloc[:,0]],positions = [1,2,3])\n",
    "box_plot.show()"
   ]
  },
  {
   "cell_type": "code",
   "execution_count": 14,
   "metadata": {},
   "outputs": [
    {
     "name": "stdout",
     "output_type": "stream",
     "text": [
      " Fraud % =  19.949664429530202\n",
      "Input Matrix = \n",
      " [[ 1100    11     0    94     1     2]\n",
      " [ 1300     7     2   122     0     1]\n",
      " [ 1500     4     0   149     1     3]\n",
      " ...\n",
      " [89200    15     0   212     0     2]\n",
      " [89800    14     0   214     0     2]\n",
      " [89900    15     0   220     0     1]]\n",
      "Number of Dimensions =  2\n",
      "Number of Rows =  5960\n",
      "Number of Columns =  6\n",
      "t(x) * x = \n",
      " [[2812184770000    1040176400      42913200   20404919400     134771800\n",
      "      220035900]\n",
      " [   1040176400        788159         23809      10264845         57654\n",
      "         106717]\n",
      " [     42913200         23809          7922        448090          3459\n",
      "           4765]\n",
      " [  20404919400      10264845        448090     232422585       1163391\n",
      "        2121127]\n",
      " [    134771800         57654          3459       1163391         24460\n",
      "          13581]\n",
      " [    220035900        106717          4765       2121127         13581\n",
      "          29423]]\n",
      "Eigenvalues of x = \n",
      " [6.84728061e+03 8.38798104e+03 1.80639631e+04 3.15839942e+05\n",
      " 8.44539131e+07 2.81233324e+12]\n",
      "Eigenvectors of x = \n",
      " [[-5.37750046e-06 -2.20900379e-05  3.62806809e-05 -1.36298664e-04\n",
      "  -7.26453432e-03  9.99973603e-01]\n",
      " [ 6.05433402e-03 -2.69942162e-02  1.27528313e-02  9.99013423e-01\n",
      "   3.23120126e-02  3.69879256e-04]\n",
      " [-9.82198935e-01  1.56454700e-01 -1.03312781e-01  1.14463687e-02\n",
      "   1.62110700e-03  1.52596881e-05]\n",
      " [ 1.59310591e-04 -4.91894718e-03  3.11864824e-03 -3.25018102e-02\n",
      "   9.99428355e-01  7.25592222e-03]\n",
      " [ 6.90939783e-02 -2.10615119e-01 -9.75101628e-01  6.26672294e-03\n",
      "   2.19857585e-03  4.79234486e-05]\n",
      " [ 1.74569737e-01  9.64577791e-01 -1.95782843e-01  2.73038995e-02\n",
      "   6.21788707e-03  7.82430481e-05]]\n",
      "Transformation Matrix = \n",
      " [[-6.49862374e-08 -2.41194689e-07  2.69941036e-07 -2.42525871e-07\n",
      "  -7.90492750e-07  5.96286732e-07]\n",
      " [ 7.31656633e-05 -2.94741983e-04  9.48855536e-05  1.77761538e-03\n",
      "   3.51604254e-06  2.20559915e-10]\n",
      " [-1.18697179e-02  1.70828329e-03 -7.68683456e-04  2.03673350e-05\n",
      "   1.76401304e-07  9.09938972e-12]\n",
      " [ 1.92524315e-06 -5.37085514e-05  2.32038406e-05 -5.78327741e-05\n",
      "   1.08753133e-04  4.32672436e-09]\n",
      " [ 8.34989734e-04 -2.29964514e-03 -7.25509934e-03  1.11508242e-05\n",
      "   2.39238772e-07  2.85768709e-11]\n",
      " [ 2.10964750e-03  1.05319439e-02 -1.45669326e-03  4.85837631e-05\n",
      "   6.76601477e-07  4.66565230e-11]]\n",
      "The Transformed x = \n",
      " [[ 5.96859502e-03  1.02081629e-02 -6.64664861e-03  1.39590283e-02\n",
      "   9.39352141e-03  6.56324665e-04]\n",
      " [-2.09672310e-02  5.01932025e-03  8.51930607e-04  5.16174400e-03\n",
      "   1.22658834e-02  7.75702220e-04]\n",
      " [ 7.64597676e-03  1.97528525e-02 -7.38335310e-03 -1.71350853e-03\n",
      "   1.50348109e-02  8.95075830e-04]\n",
      " ...\n",
      " [-7.18408819e-05 -1.62580211e-02  2.75078514e-02 -7.13245766e-03\n",
      "  -4.74021952e-02  5.31896971e-02]\n",
      " [-1.80147801e-04 -1.62154130e-02  2.76213381e-02 -9.17125411e-03\n",
      "  -4.76625006e-02  5.35474776e-02]\n",
      " [-2.21157680e-03 -2.73884697e-02  2.93391341e-02 -7.81347172e-03\n",
      "  -4.70861917e-02  5.36071324e-02]]\n",
      "Expect an Identity Matrix = \n",
      " [[ 1. -0.  0.  0.  0. -0.]\n",
      " [-0.  1. -0. -0. -0.  0.]\n",
      " [ 0. -0.  1.  0. -0. -0.]\n",
      " [ 0. -0.  0.  1.  0. -0.]\n",
      " [ 0. -0. -0.  0.  1. -0.]\n",
      " [-0.  0. -0. -0. -0.  1.]]\n",
      "The orthonormalize x = \n",
      " [[-6.56324665e-04  9.39352141e-03  1.39590283e-02 -6.64664861e-03\n",
      "   1.02081629e-02 -5.96859502e-03]\n",
      " [-7.75702220e-04  1.22658834e-02  5.16174400e-03  8.51930607e-04\n",
      "   5.01932025e-03  2.09672310e-02]\n",
      " [-8.95075830e-04  1.50348109e-02 -1.71350853e-03 -7.38335310e-03\n",
      "   1.97528525e-02 -7.64597676e-03]\n",
      " ...\n",
      " [-5.31896971e-02 -4.74021952e-02 -7.13245766e-03  2.75078514e-02\n",
      "  -1.62580211e-02  7.18408819e-05]\n",
      " [-5.35474776e-02 -4.76625006e-02 -9.17125411e-03  2.76213381e-02\n",
      "  -1.62154130e-02  1.80147801e-04]\n",
      " [-5.36071324e-02 -4.70861917e-02 -7.81347172e-03  2.93391341e-02\n",
      "  -2.73884697e-02  2.21157680e-03]]\n",
      "Also Expect an Identity Matrix = \n",
      " [[ 1. -0.  0. -0.  0. -0.]\n",
      " [-0.  1. -0.  0. -0. -0.]\n",
      " [ 0. -0.  1. -0. -0. -0.]\n",
      " [-0.  0. -0.  1. -0.  0.]\n",
      " [ 0. -0. -0. -0.  1.  0.]\n",
      " [-0. -0. -0.  0.  0.  1.]]\n"
     ]
    },
    {
     "name": "stderr",
     "output_type": "stream",
     "text": [
      "c:\\users\\suhas\\pyvenevs\\fall\\lib\\site-packages\\matplotlib\\figure.py:457: UserWarning: matplotlib is currently using a non-GUI backend, so cannot show the figure\n",
      "  \"matplotlib is currently using a non-GUI backend, \"\n"
     ]
    },
    {
     "data": {
      "image/png": "[encoded data removed]",
      "text/plain": [
       "<Figure size 432x288 with 1 Axes>"
      ]
     },
     "metadata": {
      "needs_background": "light"
     },
     "output_type": "display_data"
    },
    {
     "data": {
      "image/png": "[encoded data removed]",
      "text/plain": [
       "<Figure size 432x288 with 1 Axes>"
      ]
     },
     "metadata": {
      "needs_background": "light"
     },
     "output_type": "display_data"
    },
    {
     "data": {
      "image/png": "[encoded data removed]",
      "text/plain": [
       "<Figure size 432x288 with 1 Axes>"
      ]
     },
     "metadata": {
      "needs_background": "light"
     },
     "output_type": "display_data"
    },
    {
     "data": {
      "image/png": "[encoded data removed]",
      "text/plain": [
       "<Figure size 432x288 with 1 Axes>"
      ]
     },
     "metadata": {
      "needs_background": "light"
     },
     "output_type": "display_data"
    },
    {
     "data": {
      "image/png": "[encoded data removed]",
      "text/plain": [
       "<Figure size 432x288 with 1 Axes>"
      ]
     },
     "metadata": {
      "needs_background": "light"
     },
     "output_type": "display_data"
    },
    {
     "data": {
      "image/png": "[encoded data removed]",
      "text/plain": [
       "<Figure size 432x288 with 1 Axes>"
      ]
     },
     "metadata": {
      "needs_background": "light"
     },
     "output_type": "display_data"
    }
   ],
   "source": [
    "df = pd.read_csv('Fraud.csv')\n",
    "# Input the matrix X\n",
    "print(\" Fraud % = \", (df.iloc[:,1].sum()/df.iloc[:,1].size)*100)\n",
    "fraud_grpBy = df.groupby('FRAUD')\n",
    "fraud_grps = [fraud_grpBy.get_group(g) for g in fraud_grpBy.groups]\n",
    "\n",
    "box_plot = plt.figure(6)\n",
    "plt.boxplot([fraud_grps[0].iloc[:,2],fraud_grps[1].iloc[:,2]],positions = [1,2],vert = False)\n",
    "plt.title('TOTAL_SPEND')\n",
    "box_plot.show()\n",
    "\n",
    "box_plot = plt.figure(7)\n",
    "plt.boxplot([fraud_grps[0].iloc[:,3],fraud_grps[1].iloc[:,4]],positions = [1,2],vert = False)\n",
    "plt.title('DOCTOR_VISITS')\n",
    "box_plot.show()\n",
    "\n",
    "box_plot = plt.figure(8)\n",
    "plt.boxplot([fraud_grps[0].iloc[:,4],fraud_grps[1].iloc[:,4]],positions = [1,2],vert = False)\n",
    "plt.title('NUM_CLAIMS')\n",
    "box_plot.show()\n",
    "\n",
    "box_plot = plt.figure(9)\n",
    "plt.boxplot([fraud_grps[0].iloc[:,5],fraud_grps[1].iloc[:,5]],positions = [1,2],vert = False)\n",
    "plt.title('MEMBER_DURATION')\n",
    "box_plot.show()\n",
    "\n",
    "box_plot = plt.figure(10)\n",
    "plt.boxplot([fraud_grps[0].iloc[:,6],fraud_grps[1].iloc[:,6]],positions = [1,2],vert = False)\n",
    "plt.title('OPTOM_PRESC')\n",
    "box_plot.show()\n",
    "\n",
    "box_plot = plt.figure(11)\n",
    "plt.boxplot([fraud_grps[0].iloc[:,7],fraud_grps[1].iloc[:,7]],positions = [1,2],vert = False)\n",
    "plt.title('NUM_MEMBERS')\n",
    "box_plot.show()\n",
    "\n",
    "df_vals = df.values\n",
    "x = np.delete(df_vals,[0,1],1)\n",
    "\n",
    "print(\"Input Matrix = \\n\", x)\n",
    "\n",
    "print(\"Number of Dimensions = \", x.ndim)\n",
    "\n",
    "print(\"Number of Rows = \", np.size(x,0))\n",
    "print(\"Number of Columns = \", np.size(x,1))\n",
    "\n",
    "#xtx = x.transpose() * x\n",
    "xtx = np.matmul(x.transpose(),x)\n",
    "print(\"t(x) * x = \\n\", xtx)\n",
    "\n",
    "# Eigenvalue decomposition\n",
    "evals, evecs = LA.eigh(xtx)\n",
    "print(\"Eigenvalues of x = \\n\", evals)\n",
    "print(\"Eigenvectors of x = \\n\",evecs)\n",
    "\n",
    "# Here is the transformation matrix\n",
    "transf = evecs.dot(LA.inv(np.sqrt(np.diagflat(evals))));\n",
    "print(\"Transformation Matrix = \\n\", transf)\n",
    "\n",
    "# Here is the transformed X\n",
    "#transf_x = x * transf;\n",
    "transf_x = np.matmul(x,transf)\n",
    "print(\"The Transformed x = \\n\", transf_x)\n",
    "\n",
    "# Check columns of transformed X\n",
    "#xtx = transf_x.transpose() * transf_x;\n",
    "xtx = np.matmul(transf_x.transpose(),transf_x);\n",
    "print(\"Expect an Identity Matrix = \\n\", np.round(xtx))\n",
    "\n",
    "# Orthonormalize using the orth function \n",
    "\n",
    "orthx = LA2.orth(x)\n",
    "print(\"The orthonormalize x = \\n\", orthx)\n",
    "\n",
    "# Check columns of the ORTH function\n",
    "check = orthx.transpose().dot(orthx)\n",
    "print(\"Also Expect an Identity Matrix = \\n\", np.round(check))"
   ]
  },
  {
   "cell_type": "code",
   "execution_count": 15,
   "metadata": {},
   "outputs": [
    {
     "name": "stdout",
     "output_type": "stream",
     "text": [
      "My Neighbors = \n",
      " [[ 588 2897 1199 1246  886]]\n"
     ]
    },
    {
     "name": "stderr",
     "output_type": "stream",
     "text": [
      "c:\\users\\suhas\\pyvenevs\\fall\\lib\\site-packages\\ipykernel_launcher.py:24: DataConversionWarning: A column-vector y was passed when a 1d array was expected. Please change the shape of y to (n_samples, ), for example using ravel().\n"
     ]
    },
    {
     "name": "stdout",
     "output_type": "stream",
     "text": [
      "[[0. 1.]]\n",
      "0.8778523489932886\n",
      "CASE_ID             589\n",
      "FRAUD                 1\n",
      "TOTAL_SPEND        7500\n",
      "DOCTOR_VISITS        15\n",
      "NUM_CLAIMS            3\n",
      "MEMBER_DURATION     127\n",
      "OPTOM_PRESC           2\n",
      "NUM_MEMBERS           2\n",
      "Name: 588, dtype: int64\n",
      "CASE_ID             2898\n",
      "FRAUD                  1\n",
      "TOTAL_SPEND        16000\n",
      "DOCTOR_VISITS         18\n",
      "NUM_CLAIMS             3\n",
      "MEMBER_DURATION      146\n",
      "OPTOM_PRESC            3\n",
      "NUM_MEMBERS            2\n",
      "Name: 2897, dtype: int64\n",
      "CASE_ID             1200\n",
      "FRAUD                  1\n",
      "TOTAL_SPEND        10000\n",
      "DOCTOR_VISITS         16\n",
      "NUM_CLAIMS             3\n",
      "MEMBER_DURATION      124\n",
      "OPTOM_PRESC            2\n",
      "NUM_MEMBERS            1\n",
      "Name: 1199, dtype: int64\n",
      "CASE_ID             1247\n",
      "FRAUD                  1\n",
      "TOTAL_SPEND        10200\n",
      "DOCTOR_VISITS         13\n",
      "NUM_CLAIMS             3\n",
      "MEMBER_DURATION      119\n",
      "OPTOM_PRESC            2\n",
      "NUM_MEMBERS            3\n",
      "Name: 1246, dtype: int64\n",
      "CASE_ID             887\n",
      "FRAUD                 1\n",
      "TOTAL_SPEND        8900\n",
      "DOCTOR_VISITS        22\n",
      "NUM_CLAIMS            3\n",
      "MEMBER_DURATION     166\n",
      "OPTOM_PRESC           1\n",
      "NUM_MEMBERS           2\n",
      "Name: 886, dtype: int64\n"
     ]
    }
   ],
   "source": [
    "kNNSpec = kNN(n_neighbors = 5, algorithm = 'brute', metric = 'euclidean')\n",
    "\n",
    "#trainData = df[['TOTAL_SPEND', 'DOCTOR_VISITS', 'NUM_CLAIMS', 'MEMBER_DURATION', 'OPTOM_PRESC', 'NUM_MEMBERS']]\n",
    "#trainData.describe()\n",
    "trainData = transf_x\n",
    "# Build nearest neighbors\n",
    "nbrs = kNNSpec.fit(trainData)\n",
    "distances, indices = nbrs.kneighbors(trainData)\n",
    "\n",
    "# Find the nearest neighbors of these focal observations       \n",
    "#focal = [[7500, 15, 3, 127, 2, 2]]     # Mercedes-Benz_271\n",
    "sample = [[7500, 15, 3, 127, 2, 2]]\n",
    "#sample.reshape(1,-1)\n",
    "transf_samp = np.matmul(sample,transf)\n",
    "\n",
    "myNeighbors = nbrs.kneighbors(transf_samp, return_distance = False)\n",
    "print(\"My Neighbors = \\n\", myNeighbors)\n",
    "\n",
    "# Perform classification\n",
    "target = df[['FRAUD']]\n",
    "\n",
    "\n",
    "neigh = KNeighborsClassifier(n_neighbors=5 , algorithm = 'brute', metric = 'euclidean')\n",
    "nbrs = neigh.fit(trainData, target)\n",
    "\n",
    "# See the classification result\n",
    "class_result = nbrs.predict(trainData)\n",
    "#print(class_result)\n",
    "\n",
    "# See the classification probabilities\n",
    "#class_prob = nbrs.predict_proba(trainData)\n",
    "class_prob = nbrs.predict_proba(transf_samp)\n",
    "print(class_prob)\n",
    "\n",
    "accuracy = nbrs.score(trainData, target)\n",
    "print(accuracy)\n",
    "print(df.iloc[588,:])\n",
    "print(df.iloc[2897,:])\n",
    "print(df.iloc[1199,:])\n",
    "print(df.iloc[1246,:])\n",
    "print(df.iloc[886,:])"
   ]
  }
 ],
 "metadata": {
  "kernelspec": {
   "display_name": "Python 3",
   "language": "python",
   "name": "python3"
  },
  "language_info": {
   "codemirror_mode": {
    "name": "ipython",
    "version": 3
   },
   "file_extension": ".py",
   "mimetype": "text/x-python",
   "name": "python",
   "nbconvert_exporter": "python",
   "pygments_lexer": "ipython3",
   "version": "3.7.0"
  }
 },
 "nbformat": 4,
 "nbformat_minor": 2
}

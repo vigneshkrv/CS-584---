{
 "cells": [
  {
   "cell_type": "code",
   "execution_count": 1,
   "metadata": {},
   "outputs": [
    {
     "data": {
      "text/html": [
       "<div>\n",
       "<style scoped>\n",
       "    .dataframe tbody tr th:only-of-type {\n",
       "        vertical-align: middle;\n",
       "    }\n",
       "\n",
       "    .dataframe tbody tr th {\n",
       "        vertical-align: top;\n",
       "    }\n",
       "\n",
       "    .dataframe thead th {\n",
       "        text-align: right;\n",
       "    }\n",
       "</style>\n",
       "<table border=\"1\" class=\"dataframe\">\n",
       "  <thead>\n",
       "    <tr style=\"text-align: right;\">\n",
       "      <th></th>\n",
       "      <th>id</th>\n",
       "      <th>x</th>\n",
       "      <th>y</th>\n",
       "      <th>SpectralCluster</th>\n",
       "    </tr>\n",
       "  </thead>\n",
       "  <tbody>\n",
       "    <tr>\n",
       "      <th>0</th>\n",
       "      <td>1</td>\n",
       "      <td>1.390340</td>\n",
       "      <td>-0.018146</td>\n",
       "      <td>0</td>\n",
       "    </tr>\n",
       "    <tr>\n",
       "      <th>1</th>\n",
       "      <td>2</td>\n",
       "      <td>-1.136269</td>\n",
       "      <td>-1.093869</td>\n",
       "      <td>1</td>\n",
       "    </tr>\n",
       "    <tr>\n",
       "      <th>2</th>\n",
       "      <td>3</td>\n",
       "      <td>1.194276</td>\n",
       "      <td>0.205196</td>\n",
       "      <td>0</td>\n",
       "    </tr>\n",
       "    <tr>\n",
       "      <th>3</th>\n",
       "      <td>4</td>\n",
       "      <td>1.666396</td>\n",
       "      <td>0.348524</td>\n",
       "      <td>0</td>\n",
       "    </tr>\n",
       "    <tr>\n",
       "      <th>4</th>\n",
       "      <td>5</td>\n",
       "      <td>0.135881</td>\n",
       "      <td>-1.963015</td>\n",
       "      <td>1</td>\n",
       "    </tr>\n",
       "  </tbody>\n",
       "</table>\n",
       "</div>"
      ],
      "text/plain": [
       "   id         x         y  SpectralCluster\n",
       "0   1  1.390340 -0.018146                0\n",
       "1   2 -1.136269 -1.093869                1\n",
       "2   3  1.194276  0.205196                0\n",
       "3   4  1.666396  0.348524                0\n",
       "4   5  0.135881 -1.963015                1"
      ]
     },
     "execution_count": 1,
     "metadata": {},
     "output_type": "execute_result"
    }
   ],
   "source": [
    "import pandas as pd\n",
    "import matplotlib.pyplot as plt\n",
    "import numpy as np\n",
    "import sklearn.neural_network as nn\n",
    "import sklearn.metrics as metrics\n",
    "import statistics as st\n",
    "from collections import Counter\n",
    "# import csv\n",
    "\n",
    "dataset = pd.read_csv(\"SpiralWithCluster.csv\") \n",
    "spiral=dataset['SpectralCluster']\n",
    "dataset.head()\n",
    "\n",
    "#percentage of SpectralCluster = {0,1}\n",
    "spiral.value_counts()\n",
    "\n",
    "X = dataset[['x','y']]\n",
    "y = dataset['SpectralCluster']\n",
    "\n",
    "X.head()\n",
    "\n",
    "y.head()\n",
    "\n",
    "def Build_NN_relu(nLayer, nHiddenNeuron):\n",
    "    # Build Neural Network\n",
    "    nnObj = nn.MLPClassifier(hidden_layer_sizes = (nHiddenNeuron,)*nLayer,\n",
    "                            activation = 'relu', verbose = False,\n",
    "                            solver = 'lbfgs', learning_rate_init = 0.1,\n",
    "                            max_iter = 5000, random_state = 20191108)\n",
    "    # nnObj.out_activation_ = 'identity'\n",
    "    thisFit = nnObj.fit(X, y) \n",
    "    y_pred = nnObj.predict(X)\n",
    "    Loss = nnObj.loss_\n",
    "    RSquare = metrics.r2_score(y, y_pred)\n",
    "    Missclassification = 1 - metrics.accuracy_score(y, y_pred)    \n",
    "    return (Loss, RSquare, Missclassification)"
   ]
  },
  {
   "cell_type": "code",
   "execution_count": 6,
   "metadata": {},
   "outputs": [],
   "source": [
    "def Build_NN_identity(nLayer, nHiddenNeuron):\n",
    "    # Build Neural Network\n",
    "    nnObj = nn.MLPClassifier(hidden_layer_sizes = (nHiddenNeuron,)*nLayer,\n",
    "                            activation = 'identity', verbose = False,\n",
    "                            solver = 'lbfgs', learning_rate_init = 0.1,\n",
    "                            max_iter = 5000, random_state = 20191108)\n",
    "    # nnObj.out_activation_ = 'identity'\n",
    "    thisFit = nnObj.fit(X, y) \n",
    "    y_pred = nnObj.predict(X)\n",
    "    Loss = nnObj.loss_\n",
    "    RSquare = metrics.r2_score(y, y_pred)\n",
    "    Missclassification = 1-metrics.accuracy_score(y, y_pred)    \n",
    "    return (Loss, RSquare, Missclassification)"
   ]
  },
  {
   "cell_type": "code",
   "execution_count": 7,
   "metadata": {},
   "outputs": [],
   "source": [
    "def Build_NN_logistic(nLayer, nHiddenNeuron):\n",
    "    # Build Neural Network\n",
    "    nnObj = nn.MLPClassifier(hidden_layer_sizes = (nHiddenNeuron,)*nLayer,\n",
    "                            activation = 'logistic', verbose = False,\n",
    "                            solver = 'lbfgs', learning_rate_init = 0.1,\n",
    "                            max_iter = 5000, random_state = 20191108)\n",
    "    # nnObj.out_activation_ = 'identity'\n",
    "    thisFit = nnObj.fit(X, y) \n",
    "    y_pred = nnObj.predict(X)\n",
    "    Loss = nnObj.loss_\n",
    "    RSquare = metrics.r2_score(y, y_pred)\n",
    "    Missclassification= 1 - metrics.accuracy_score(y, y_pred)    \n",
    "    return (Loss, RSquare, Missclassification)"
   ]
  },
  {
   "cell_type": "code",
   "execution_count": 8,
   "metadata": {},
   "outputs": [],
   "source": [
    "def Build_NN_tanh(nLayer, nHiddenNeuron):\n",
    "    # Build Neural Network\n",
    "    nnObj = nn.MLPClassifier(hidden_layer_sizes = (nHiddenNeuron,)*nLayer,\n",
    "                            activation = 'tanh', verbose = False,\n",
    "                            solver = 'lbfgs', learning_rate_init = 0.1,\n",
    "                            max_iter = 5000, random_state = 20191108)\n",
    "    # nnObj.out_activation_ = 'identity'\n",
    "    thisFit = nnObj.fit(X, y) \n",
    "    y_pred = nnObj.predict(X)\n",
    "    Loss = nnObj.loss_\n",
    "    RSquare = metrics.r2_score(y, y_pred)\n",
    "    Missclassification= 1 - metrics.accuracy_score(y, y_pred)    \n",
    "    return (Loss, RSquare, Missclassification)"
   ]
  },
  {
   "cell_type": "code",
   "execution_count": 9,
   "metadata": {},
   "outputs": [],
   "source": [
    "result = pd.DataFrame(columns = ['Activation','nLayer', 'nHiddenNeuron', 'Loss', 'RSquare','Misclassification'])\n",
    "# activiation_functions: identity, logistic, tanh, relu\n",
    "\n",
    "for i in np.arange(1,6):\n",
    "    for j in np.arange(1,11):\n",
    "        Loss, RSquare, Accuracy = Build_NN_relu(nLayer = i, nHiddenNeuron = j)\n",
    "        result = result.append(pd.DataFrame([['relu',i, j, Loss, RSquare,Accuracy]], \n",
    "                               columns = ['Activation','nLayer', 'nHiddenNeuron', 'Loss', 'RSquare','Misclassification']))\n",
    "result.to_csv('relu.csv',index=False)\n"
   ]
  },
  {
   "cell_type": "code",
   "execution_count": 10,
   "metadata": {},
   "outputs": [],
   "source": [
    "result = pd.DataFrame(columns = ['Activation','nLayer', 'nHiddenNeuron', 'Loss', 'RSquare','Misclassification'])\n",
    "for i in np.arange(1,6):\n",
    "    for j in np.arange(1,11):\n",
    "        Loss, RSquare, Accuracy = Build_NN_identity(nLayer = i, nHiddenNeuron = j)\n",
    "        result = result.append(pd.DataFrame([['identity',i, j, Loss, RSquare,Accuracy]], \n",
    "                               columns = ['Activation','nLayer', 'nHiddenNeuron', 'Loss', 'RSquare','Misclassification']))\n",
    "result.to_csv('identity.csv',index=False)"
   ]
  },
  {
   "cell_type": "code",
   "execution_count": 11,
   "metadata": {},
   "outputs": [],
   "source": [
    "result = pd.DataFrame(columns = ['Activation','nLayer', 'nHiddenNeuron', 'Loss', 'RSquare','Misclassification'])\n",
    "for i in np.arange(1,6):\n",
    "    for j in np.arange(1,11):\n",
    "        Loss, RSquare, Accuracy = Build_NN_logistic(nLayer = i, nHiddenNeuron = j)\n",
    "        result = result.append(pd.DataFrame([['logistic',i, j, Loss, RSquare,Accuracy]], \n",
    "                               columns = ['Activation','nLayer', 'nHiddenNeuron', 'Loss', 'RSquare','Misclassification']))\n",
    "result.to_csv('logistic.csv',index=False)"
   ]
  },
  {
   "cell_type": "code",
   "execution_count": 12,
   "metadata": {},
   "outputs": [],
   "source": [
    "result = pd.DataFrame(columns = ['Activation','nLayer', 'nHiddenNeuron', 'Loss', 'RSquare','Misclassification'])\n",
    "for i in np.arange(1,6):\n",
    "    for j in np.arange(1,11):\n",
    "        Loss, RSquare, Accuracy = Build_NN_tanh(nLayer = i, nHiddenNeuron = j)\n",
    "        result = result.append(pd.DataFrame([['tanh',i, j, Loss, RSquare,Accuracy]], \n",
    "                               columns = ['Activation','nLayer', 'nHiddenNeuron', 'Loss', 'RSquare','Misclassification']))\n",
    "result.to_csv('tanh.csv',index=False)"
   ]
  },
  {
   "cell_type": "code",
   "execution_count": 13,
   "metadata": {},
   "outputs": [
    {
     "data": {
      "text/html": [
       "<div>\n",
       "<style scoped>\n",
       "    .dataframe tbody tr th:only-of-type {\n",
       "        vertical-align: middle;\n",
       "    }\n",
       "\n",
       "    .dataframe tbody tr th {\n",
       "        vertical-align: top;\n",
       "    }\n",
       "\n",
       "    .dataframe thead th {\n",
       "        text-align: right;\n",
       "    }\n",
       "</style>\n",
       "<table border=\"1\" class=\"dataframe\">\n",
       "  <thead>\n",
       "    <tr style=\"text-align: right;\">\n",
       "      <th></th>\n",
       "      <th>Activation</th>\n",
       "      <th>nLayer</th>\n",
       "      <th>nHiddenNeuron</th>\n",
       "      <th>Loss</th>\n",
       "      <th>RSquare</th>\n",
       "      <th>Misclassification</th>\n",
       "    </tr>\n",
       "  </thead>\n",
       "  <tbody>\n",
       "    <tr>\n",
       "      <th>0</th>\n",
       "      <td>identity</td>\n",
       "      <td>1</td>\n",
       "      <td>1</td>\n",
       "      <td>0.666290</td>\n",
       "      <td>-1.0</td>\n",
       "      <td>0.5</td>\n",
       "    </tr>\n",
       "    <tr>\n",
       "      <th>1</th>\n",
       "      <td>identity</td>\n",
       "      <td>1</td>\n",
       "      <td>2</td>\n",
       "      <td>0.666290</td>\n",
       "      <td>-1.0</td>\n",
       "      <td>0.5</td>\n",
       "    </tr>\n",
       "    <tr>\n",
       "      <th>2</th>\n",
       "      <td>identity</td>\n",
       "      <td>1</td>\n",
       "      <td>3</td>\n",
       "      <td>0.666291</td>\n",
       "      <td>-1.0</td>\n",
       "      <td>0.5</td>\n",
       "    </tr>\n",
       "    <tr>\n",
       "      <th>3</th>\n",
       "      <td>identity</td>\n",
       "      <td>1</td>\n",
       "      <td>4</td>\n",
       "      <td>0.666291</td>\n",
       "      <td>-1.0</td>\n",
       "      <td>0.5</td>\n",
       "    </tr>\n",
       "    <tr>\n",
       "      <th>4</th>\n",
       "      <td>identity</td>\n",
       "      <td>1</td>\n",
       "      <td>5</td>\n",
       "      <td>0.666292</td>\n",
       "      <td>-1.0</td>\n",
       "      <td>0.5</td>\n",
       "    </tr>\n",
       "  </tbody>\n",
       "</table>\n",
       "</div>"
      ],
      "text/plain": [
       "  Activation  nLayer  nHiddenNeuron      Loss  RSquare  Misclassification\n",
       "0   identity       1              1  0.666290     -1.0                0.5\n",
       "1   identity       1              2  0.666290     -1.0                0.5\n",
       "2   identity       1              3  0.666291     -1.0                0.5\n",
       "3   identity       1              4  0.666291     -1.0                0.5\n",
       "4   identity       1              5  0.666292     -1.0                0.5"
      ]
     },
     "execution_count": 13,
     "metadata": {},
     "output_type": "execute_result"
    }
   ],
   "source": [
    "identity_csv = pd.read_csv('identity.csv')\n",
    "identity_csv.head()"
   ]
  },
  {
   "cell_type": "code",
   "execution_count": 14,
   "metadata": {},
   "outputs": [
    {
     "data": {
      "text/html": [
       "<div>\n",
       "<style scoped>\n",
       "    .dataframe tbody tr th:only-of-type {\n",
       "        vertical-align: middle;\n",
       "    }\n",
       "\n",
       "    .dataframe tbody tr th {\n",
       "        vertical-align: top;\n",
       "    }\n",
       "\n",
       "    .dataframe thead th {\n",
       "        text-align: right;\n",
       "    }\n",
       "</style>\n",
       "<table border=\"1\" class=\"dataframe\">\n",
       "  <thead>\n",
       "    <tr style=\"text-align: right;\">\n",
       "      <th></th>\n",
       "      <th>Activation</th>\n",
       "      <th>nLayer</th>\n",
       "      <th>nHiddenNeuron</th>\n",
       "      <th>Loss</th>\n",
       "      <th>RSquare</th>\n",
       "      <th>Misclassification</th>\n",
       "    </tr>\n",
       "  </thead>\n",
       "  <tbody>\n",
       "    <tr>\n",
       "      <th>0</th>\n",
       "      <td>logistic</td>\n",
       "      <td>1</td>\n",
       "      <td>1</td>\n",
       "      <td>0.666517</td>\n",
       "      <td>-1.00</td>\n",
       "      <td>0.50</td>\n",
       "    </tr>\n",
       "    <tr>\n",
       "      <th>1</th>\n",
       "      <td>logistic</td>\n",
       "      <td>1</td>\n",
       "      <td>2</td>\n",
       "      <td>0.585644</td>\n",
       "      <td>-0.36</td>\n",
       "      <td>0.34</td>\n",
       "    </tr>\n",
       "    <tr>\n",
       "      <th>2</th>\n",
       "      <td>logistic</td>\n",
       "      <td>1</td>\n",
       "      <td>3</td>\n",
       "      <td>0.354539</td>\n",
       "      <td>0.16</td>\n",
       "      <td>0.21</td>\n",
       "    </tr>\n",
       "    <tr>\n",
       "      <th>3</th>\n",
       "      <td>logistic</td>\n",
       "      <td>1</td>\n",
       "      <td>4</td>\n",
       "      <td>0.168774</td>\n",
       "      <td>0.60</td>\n",
       "      <td>0.10</td>\n",
       "    </tr>\n",
       "    <tr>\n",
       "      <th>4</th>\n",
       "      <td>logistic</td>\n",
       "      <td>1</td>\n",
       "      <td>5</td>\n",
       "      <td>0.010091</td>\n",
       "      <td>1.00</td>\n",
       "      <td>0.00</td>\n",
       "    </tr>\n",
       "  </tbody>\n",
       "</table>\n",
       "</div>"
      ],
      "text/plain": [
       "  Activation  nLayer  nHiddenNeuron      Loss  RSquare  Misclassification\n",
       "0   logistic       1              1  0.666517    -1.00               0.50\n",
       "1   logistic       1              2  0.585644    -0.36               0.34\n",
       "2   logistic       1              3  0.354539     0.16               0.21\n",
       "3   logistic       1              4  0.168774     0.60               0.10\n",
       "4   logistic       1              5  0.010091     1.00               0.00"
      ]
     },
     "execution_count": 14,
     "metadata": {},
     "output_type": "execute_result"
    }
   ],
   "source": [
    "logistic_csv = pd.read_csv('logistic.csv')\n",
    "logistic_csv.head()"
   ]
  },
  {
   "cell_type": "code",
   "execution_count": 15,
   "metadata": {},
   "outputs": [
    {
     "data": {
      "text/html": [
       "<div>\n",
       "<style scoped>\n",
       "    .dataframe tbody tr th:only-of-type {\n",
       "        vertical-align: middle;\n",
       "    }\n",
       "\n",
       "    .dataframe tbody tr th {\n",
       "        vertical-align: top;\n",
       "    }\n",
       "\n",
       "    .dataframe thead th {\n",
       "        text-align: right;\n",
       "    }\n",
       "</style>\n",
       "<table border=\"1\" class=\"dataframe\">\n",
       "  <thead>\n",
       "    <tr style=\"text-align: right;\">\n",
       "      <th></th>\n",
       "      <th>Activation</th>\n",
       "      <th>nLayer</th>\n",
       "      <th>nHiddenNeuron</th>\n",
       "      <th>Loss</th>\n",
       "      <th>RSquare</th>\n",
       "      <th>Misclassification</th>\n",
       "    </tr>\n",
       "  </thead>\n",
       "  <tbody>\n",
       "    <tr>\n",
       "      <th>0</th>\n",
       "      <td>relu</td>\n",
       "      <td>1</td>\n",
       "      <td>1</td>\n",
       "      <td>0.584810</td>\n",
       "      <td>-0.44</td>\n",
       "      <td>0.36</td>\n",
       "    </tr>\n",
       "    <tr>\n",
       "      <th>1</th>\n",
       "      <td>relu</td>\n",
       "      <td>1</td>\n",
       "      <td>2</td>\n",
       "      <td>0.578846</td>\n",
       "      <td>-0.72</td>\n",
       "      <td>0.43</td>\n",
       "    </tr>\n",
       "    <tr>\n",
       "      <th>2</th>\n",
       "      <td>relu</td>\n",
       "      <td>1</td>\n",
       "      <td>3</td>\n",
       "      <td>0.427564</td>\n",
       "      <td>0.16</td>\n",
       "      <td>0.21</td>\n",
       "    </tr>\n",
       "    <tr>\n",
       "      <th>3</th>\n",
       "      <td>relu</td>\n",
       "      <td>1</td>\n",
       "      <td>4</td>\n",
       "      <td>0.301008</td>\n",
       "      <td>0.36</td>\n",
       "      <td>0.16</td>\n",
       "    </tr>\n",
       "    <tr>\n",
       "      <th>4</th>\n",
       "      <td>relu</td>\n",
       "      <td>1</td>\n",
       "      <td>5</td>\n",
       "      <td>0.419549</td>\n",
       "      <td>-0.08</td>\n",
       "      <td>0.27</td>\n",
       "    </tr>\n",
       "  </tbody>\n",
       "</table>\n",
       "</div>"
      ],
      "text/plain": [
       "  Activation  nLayer  nHiddenNeuron      Loss  RSquare  Misclassification\n",
       "0       relu       1              1  0.584810    -0.44               0.36\n",
       "1       relu       1              2  0.578846    -0.72               0.43\n",
       "2       relu       1              3  0.427564     0.16               0.21\n",
       "3       relu       1              4  0.301008     0.36               0.16\n",
       "4       relu       1              5  0.419549    -0.08               0.27"
      ]
     },
     "execution_count": 15,
     "metadata": {},
     "output_type": "execute_result"
    }
   ],
   "source": [
    "relu_csv = pd.read_csv('relu.csv')\n",
    "relu_csv.head()"
   ]
  },
  {
   "cell_type": "code",
   "execution_count": 16,
   "metadata": {},
   "outputs": [
    {
     "data": {
      "text/html": [
       "<div>\n",
       "<style scoped>\n",
       "    .dataframe tbody tr th:only-of-type {\n",
       "        vertical-align: middle;\n",
       "    }\n",
       "\n",
       "    .dataframe tbody tr th {\n",
       "        vertical-align: top;\n",
       "    }\n",
       "\n",
       "    .dataframe thead th {\n",
       "        text-align: right;\n",
       "    }\n",
       "</style>\n",
       "<table border=\"1\" class=\"dataframe\">\n",
       "  <thead>\n",
       "    <tr style=\"text-align: right;\">\n",
       "      <th></th>\n",
       "      <th>Activation</th>\n",
       "      <th>nLayer</th>\n",
       "      <th>nHiddenNeuron</th>\n",
       "      <th>Loss</th>\n",
       "      <th>RSquare</th>\n",
       "      <th>Misclassification</th>\n",
       "    </tr>\n",
       "  </thead>\n",
       "  <tbody>\n",
       "    <tr>\n",
       "      <th>0</th>\n",
       "      <td>tanh</td>\n",
       "      <td>1</td>\n",
       "      <td>1</td>\n",
       "      <td>0.576385</td>\n",
       "      <td>-0.40</td>\n",
       "      <td>0.35</td>\n",
       "    </tr>\n",
       "    <tr>\n",
       "      <th>1</th>\n",
       "      <td>tanh</td>\n",
       "      <td>1</td>\n",
       "      <td>2</td>\n",
       "      <td>0.498350</td>\n",
       "      <td>-0.04</td>\n",
       "      <td>0.26</td>\n",
       "    </tr>\n",
       "    <tr>\n",
       "      <th>2</th>\n",
       "      <td>tanh</td>\n",
       "      <td>1</td>\n",
       "      <td>3</td>\n",
       "      <td>0.220446</td>\n",
       "      <td>0.68</td>\n",
       "      <td>0.08</td>\n",
       "    </tr>\n",
       "    <tr>\n",
       "      <th>3</th>\n",
       "      <td>tanh</td>\n",
       "      <td>1</td>\n",
       "      <td>4</td>\n",
       "      <td>0.016113</td>\n",
       "      <td>1.00</td>\n",
       "      <td>0.00</td>\n",
       "    </tr>\n",
       "    <tr>\n",
       "      <th>4</th>\n",
       "      <td>tanh</td>\n",
       "      <td>1</td>\n",
       "      <td>5</td>\n",
       "      <td>0.184002</td>\n",
       "      <td>0.56</td>\n",
       "      <td>0.11</td>\n",
       "    </tr>\n",
       "  </tbody>\n",
       "</table>\n",
       "</div>"
      ],
      "text/plain": [
       "  Activation  nLayer  nHiddenNeuron      Loss  RSquare  Misclassification\n",
       "0       tanh       1              1  0.576385    -0.40               0.35\n",
       "1       tanh       1              2  0.498350    -0.04               0.26\n",
       "2       tanh       1              3  0.220446     0.68               0.08\n",
       "3       tanh       1              4  0.016113     1.00               0.00\n",
       "4       tanh       1              5  0.184002     0.56               0.11"
      ]
     },
     "execution_count": 16,
     "metadata": {},
     "output_type": "execute_result"
    }
   ],
   "source": [
    "tanh_csv = pd.read_csv('tanh.csv')\n",
    "tanh_csv.head()"
   ]
  },
  {
   "cell_type": "code",
   "execution_count": 17,
   "metadata": {},
   "outputs": [],
   "source": [
    "identity_mcr = identity_csv[identity_csv.Misclassification<=0.5]\n",
    "relu_mcr = relu_csv[relu_csv.Misclassification<=0.5]\n",
    "tanh_mcr = tanh_csv[tanh_csv.Misclassification<=0.5]\n",
    "logistic_mcr = logistic_csv[identity_csv.Misclassification<=0.5]"
   ]
  },
  {
   "cell_type": "code",
   "execution_count": 18,
   "metadata": {},
   "outputs": [
    {
     "data": {
      "text/html": [
       "<div>\n",
       "<style scoped>\n",
       "    .dataframe tbody tr th:only-of-type {\n",
       "        vertical-align: middle;\n",
       "    }\n",
       "\n",
       "    .dataframe tbody tr th {\n",
       "        vertical-align: top;\n",
       "    }\n",
       "\n",
       "    .dataframe thead th {\n",
       "        text-align: right;\n",
       "    }\n",
       "</style>\n",
       "<table border=\"1\" class=\"dataframe\">\n",
       "  <thead>\n",
       "    <tr style=\"text-align: right;\">\n",
       "      <th></th>\n",
       "      <th>Activation</th>\n",
       "      <th>nLayer</th>\n",
       "      <th>nHiddenNeuron</th>\n",
       "      <th>Loss</th>\n",
       "      <th>RSquare</th>\n",
       "      <th>Misclassification</th>\n",
       "    </tr>\n",
       "  </thead>\n",
       "  <tbody>\n",
       "    <tr>\n",
       "      <th>0</th>\n",
       "      <td>identity</td>\n",
       "      <td>1</td>\n",
       "      <td>1</td>\n",
       "      <td>0.666290</td>\n",
       "      <td>-1.0</td>\n",
       "      <td>0.5</td>\n",
       "    </tr>\n",
       "    <tr>\n",
       "      <th>1</th>\n",
       "      <td>identity</td>\n",
       "      <td>1</td>\n",
       "      <td>2</td>\n",
       "      <td>0.666290</td>\n",
       "      <td>-1.0</td>\n",
       "      <td>0.5</td>\n",
       "    </tr>\n",
       "    <tr>\n",
       "      <th>2</th>\n",
       "      <td>identity</td>\n",
       "      <td>1</td>\n",
       "      <td>3</td>\n",
       "      <td>0.666291</td>\n",
       "      <td>-1.0</td>\n",
       "      <td>0.5</td>\n",
       "    </tr>\n",
       "    <tr>\n",
       "      <th>3</th>\n",
       "      <td>identity</td>\n",
       "      <td>1</td>\n",
       "      <td>4</td>\n",
       "      <td>0.666291</td>\n",
       "      <td>-1.0</td>\n",
       "      <td>0.5</td>\n",
       "    </tr>\n",
       "    <tr>\n",
       "      <th>4</th>\n",
       "      <td>identity</td>\n",
       "      <td>1</td>\n",
       "      <td>5</td>\n",
       "      <td>0.666292</td>\n",
       "      <td>-1.0</td>\n",
       "      <td>0.5</td>\n",
       "    </tr>\n",
       "  </tbody>\n",
       "</table>\n",
       "</div>"
      ],
      "text/plain": [
       "  Activation  nLayer  nHiddenNeuron      Loss  RSquare  Misclassification\n",
       "0   identity       1              1  0.666290     -1.0                0.5\n",
       "1   identity       1              2  0.666290     -1.0                0.5\n",
       "2   identity       1              3  0.666291     -1.0                0.5\n",
       "3   identity       1              4  0.666291     -1.0                0.5\n",
       "4   identity       1              5  0.666292     -1.0                0.5"
      ]
     },
     "execution_count": 18,
     "metadata": {},
     "output_type": "execute_result"
    }
   ],
   "source": [
    "identity_mcr.head()"
   ]
  },
  {
   "cell_type": "code",
   "execution_count": 19,
   "metadata": {},
   "outputs": [
    {
     "data": {
      "text/html": [
       "<div>\n",
       "<style scoped>\n",
       "    .dataframe tbody tr th:only-of-type {\n",
       "        vertical-align: middle;\n",
       "    }\n",
       "\n",
       "    .dataframe tbody tr th {\n",
       "        vertical-align: top;\n",
       "    }\n",
       "\n",
       "    .dataframe thead th {\n",
       "        text-align: right;\n",
       "    }\n",
       "</style>\n",
       "<table border=\"1\" class=\"dataframe\">\n",
       "  <thead>\n",
       "    <tr style=\"text-align: right;\">\n",
       "      <th></th>\n",
       "      <th>Activation</th>\n",
       "      <th>nLayer</th>\n",
       "      <th>nHiddenNeuron</th>\n",
       "      <th>Loss</th>\n",
       "      <th>RSquare</th>\n",
       "      <th>Misclassification</th>\n",
       "    </tr>\n",
       "  </thead>\n",
       "  <tbody>\n",
       "    <tr>\n",
       "      <th>0</th>\n",
       "      <td>tanh</td>\n",
       "      <td>1</td>\n",
       "      <td>1</td>\n",
       "      <td>0.576385</td>\n",
       "      <td>-0.40</td>\n",
       "      <td>0.35</td>\n",
       "    </tr>\n",
       "    <tr>\n",
       "      <th>1</th>\n",
       "      <td>tanh</td>\n",
       "      <td>1</td>\n",
       "      <td>2</td>\n",
       "      <td>0.498350</td>\n",
       "      <td>-0.04</td>\n",
       "      <td>0.26</td>\n",
       "    </tr>\n",
       "    <tr>\n",
       "      <th>2</th>\n",
       "      <td>tanh</td>\n",
       "      <td>1</td>\n",
       "      <td>3</td>\n",
       "      <td>0.220446</td>\n",
       "      <td>0.68</td>\n",
       "      <td>0.08</td>\n",
       "    </tr>\n",
       "    <tr>\n",
       "      <th>3</th>\n",
       "      <td>tanh</td>\n",
       "      <td>1</td>\n",
       "      <td>4</td>\n",
       "      <td>0.016113</td>\n",
       "      <td>1.00</td>\n",
       "      <td>0.00</td>\n",
       "    </tr>\n",
       "    <tr>\n",
       "      <th>4</th>\n",
       "      <td>tanh</td>\n",
       "      <td>1</td>\n",
       "      <td>5</td>\n",
       "      <td>0.184002</td>\n",
       "      <td>0.56</td>\n",
       "      <td>0.11</td>\n",
       "    </tr>\n",
       "  </tbody>\n",
       "</table>\n",
       "</div>"
      ],
      "text/plain": [
       "  Activation  nLayer  nHiddenNeuron      Loss  RSquare  Misclassification\n",
       "0       tanh       1              1  0.576385    -0.40               0.35\n",
       "1       tanh       1              2  0.498350    -0.04               0.26\n",
       "2       tanh       1              3  0.220446     0.68               0.08\n",
       "3       tanh       1              4  0.016113     1.00               0.00\n",
       "4       tanh       1              5  0.184002     0.56               0.11"
      ]
     },
     "execution_count": 19,
     "metadata": {},
     "output_type": "execute_result"
    }
   ],
   "source": [
    "tanh_mcr.head()"
   ]
  },
  {
   "cell_type": "code",
   "execution_count": 20,
   "metadata": {},
   "outputs": [
    {
     "data": {
      "text/html": [
       "<div>\n",
       "<style scoped>\n",
       "    .dataframe tbody tr th:only-of-type {\n",
       "        vertical-align: middle;\n",
       "    }\n",
       "\n",
       "    .dataframe tbody tr th {\n",
       "        vertical-align: top;\n",
       "    }\n",
       "\n",
       "    .dataframe thead th {\n",
       "        text-align: right;\n",
       "    }\n",
       "</style>\n",
       "<table border=\"1\" class=\"dataframe\">\n",
       "  <thead>\n",
       "    <tr style=\"text-align: right;\">\n",
       "      <th></th>\n",
       "      <th>Activation</th>\n",
       "      <th>nLayer</th>\n",
       "      <th>nHiddenNeuron</th>\n",
       "      <th>Loss</th>\n",
       "      <th>RSquare</th>\n",
       "      <th>Misclassification</th>\n",
       "    </tr>\n",
       "  </thead>\n",
       "  <tbody>\n",
       "    <tr>\n",
       "      <th>0</th>\n",
       "      <td>logistic</td>\n",
       "      <td>1</td>\n",
       "      <td>1</td>\n",
       "      <td>0.666517</td>\n",
       "      <td>-1.00</td>\n",
       "      <td>0.50</td>\n",
       "    </tr>\n",
       "    <tr>\n",
       "      <th>1</th>\n",
       "      <td>logistic</td>\n",
       "      <td>1</td>\n",
       "      <td>2</td>\n",
       "      <td>0.585644</td>\n",
       "      <td>-0.36</td>\n",
       "      <td>0.34</td>\n",
       "    </tr>\n",
       "    <tr>\n",
       "      <th>2</th>\n",
       "      <td>logistic</td>\n",
       "      <td>1</td>\n",
       "      <td>3</td>\n",
       "      <td>0.354539</td>\n",
       "      <td>0.16</td>\n",
       "      <td>0.21</td>\n",
       "    </tr>\n",
       "    <tr>\n",
       "      <th>3</th>\n",
       "      <td>logistic</td>\n",
       "      <td>1</td>\n",
       "      <td>4</td>\n",
       "      <td>0.168774</td>\n",
       "      <td>0.60</td>\n",
       "      <td>0.10</td>\n",
       "    </tr>\n",
       "    <tr>\n",
       "      <th>4</th>\n",
       "      <td>logistic</td>\n",
       "      <td>1</td>\n",
       "      <td>5</td>\n",
       "      <td>0.010091</td>\n",
       "      <td>1.00</td>\n",
       "      <td>0.00</td>\n",
       "    </tr>\n",
       "  </tbody>\n",
       "</table>\n",
       "</div>"
      ],
      "text/plain": [
       "  Activation  nLayer  nHiddenNeuron      Loss  RSquare  Misclassification\n",
       "0   logistic       1              1  0.666517    -1.00               0.50\n",
       "1   logistic       1              2  0.585644    -0.36               0.34\n",
       "2   logistic       1              3  0.354539     0.16               0.21\n",
       "3   logistic       1              4  0.168774     0.60               0.10\n",
       "4   logistic       1              5  0.010091     1.00               0.00"
      ]
     },
     "execution_count": 20,
     "metadata": {},
     "output_type": "execute_result"
    }
   ],
   "source": [
    "logistic_mcr.head()"
   ]
  },
  {
   "cell_type": "code",
   "execution_count": 21,
   "metadata": {},
   "outputs": [
    {
     "data": {
      "text/html": [
       "<div>\n",
       "<style scoped>\n",
       "    .dataframe tbody tr th:only-of-type {\n",
       "        vertical-align: middle;\n",
       "    }\n",
       "\n",
       "    .dataframe tbody tr th {\n",
       "        vertical-align: top;\n",
       "    }\n",
       "\n",
       "    .dataframe thead th {\n",
       "        text-align: right;\n",
       "    }\n",
       "</style>\n",
       "<table border=\"1\" class=\"dataframe\">\n",
       "  <thead>\n",
       "    <tr style=\"text-align: right;\">\n",
       "      <th></th>\n",
       "      <th>Activation</th>\n",
       "      <th>nLayer</th>\n",
       "      <th>nHiddenNeuron</th>\n",
       "      <th>Loss</th>\n",
       "      <th>RSquare</th>\n",
       "      <th>Misclassification</th>\n",
       "    </tr>\n",
       "  </thead>\n",
       "  <tbody>\n",
       "    <tr>\n",
       "      <th>0</th>\n",
       "      <td>relu</td>\n",
       "      <td>1</td>\n",
       "      <td>1</td>\n",
       "      <td>0.584810</td>\n",
       "      <td>-0.44</td>\n",
       "      <td>0.36</td>\n",
       "    </tr>\n",
       "    <tr>\n",
       "      <th>1</th>\n",
       "      <td>relu</td>\n",
       "      <td>1</td>\n",
       "      <td>2</td>\n",
       "      <td>0.578846</td>\n",
       "      <td>-0.72</td>\n",
       "      <td>0.43</td>\n",
       "    </tr>\n",
       "    <tr>\n",
       "      <th>2</th>\n",
       "      <td>relu</td>\n",
       "      <td>1</td>\n",
       "      <td>3</td>\n",
       "      <td>0.427564</td>\n",
       "      <td>0.16</td>\n",
       "      <td>0.21</td>\n",
       "    </tr>\n",
       "    <tr>\n",
       "      <th>3</th>\n",
       "      <td>relu</td>\n",
       "      <td>1</td>\n",
       "      <td>4</td>\n",
       "      <td>0.301008</td>\n",
       "      <td>0.36</td>\n",
       "      <td>0.16</td>\n",
       "    </tr>\n",
       "    <tr>\n",
       "      <th>4</th>\n",
       "      <td>relu</td>\n",
       "      <td>1</td>\n",
       "      <td>5</td>\n",
       "      <td>0.419549</td>\n",
       "      <td>-0.08</td>\n",
       "      <td>0.27</td>\n",
       "    </tr>\n",
       "  </tbody>\n",
       "</table>\n",
       "</div>"
      ],
      "text/plain": [
       "  Activation  nLayer  nHiddenNeuron      Loss  RSquare  Misclassification\n",
       "0       relu       1              1  0.584810    -0.44               0.36\n",
       "1       relu       1              2  0.578846    -0.72               0.43\n",
       "2       relu       1              3  0.427564     0.16               0.21\n",
       "3       relu       1              4  0.301008     0.36               0.16\n",
       "4       relu       1              5  0.419549    -0.08               0.27"
      ]
     },
     "execution_count": 21,
     "metadata": {},
     "output_type": "execute_result"
    }
   ],
   "source": [
    "relu_mcr.head()"
   ]
  },
  {
   "cell_type": "code",
   "execution_count": 22,
   "metadata": {},
   "outputs": [
    {
     "data": {
      "text/html": [
       "<div>\n",
       "<style scoped>\n",
       "    .dataframe tbody tr th:only-of-type {\n",
       "        vertical-align: middle;\n",
       "    }\n",
       "\n",
       "    .dataframe tbody tr th {\n",
       "        vertical-align: top;\n",
       "    }\n",
       "\n",
       "    .dataframe thead th {\n",
       "        text-align: right;\n",
       "    }\n",
       "</style>\n",
       "<table border=\"1\" class=\"dataframe\">\n",
       "  <thead>\n",
       "    <tr style=\"text-align: right;\">\n",
       "      <th></th>\n",
       "      <th>Number of iteration</th>\n",
       "      <th>Activation</th>\n",
       "      <th>nLayer</th>\n",
       "      <th>nHiddenNeuron</th>\n",
       "      <th>Loss</th>\n",
       "      <th>RSquare</th>\n",
       "      <th>Misclassification</th>\n",
       "    </tr>\n",
       "  </thead>\n",
       "  <tbody>\n",
       "    <tr>\n",
       "      <th>0</th>\n",
       "      <td>1</td>\n",
       "      <td>identity</td>\n",
       "      <td>1</td>\n",
       "      <td>1</td>\n",
       "      <td>0.666290</td>\n",
       "      <td>-1.0</td>\n",
       "      <td>0.5</td>\n",
       "    </tr>\n",
       "    <tr>\n",
       "      <th>0</th>\n",
       "      <td>40</td>\n",
       "      <td>tanh</td>\n",
       "      <td>4</td>\n",
       "      <td>10</td>\n",
       "      <td>0.000112</td>\n",
       "      <td>1.0</td>\n",
       "      <td>0.0</td>\n",
       "    </tr>\n",
       "    <tr>\n",
       "      <th>0</th>\n",
       "      <td>38</td>\n",
       "      <td>relu</td>\n",
       "      <td>4</td>\n",
       "      <td>8</td>\n",
       "      <td>0.000071</td>\n",
       "      <td>1.0</td>\n",
       "      <td>0.0</td>\n",
       "    </tr>\n",
       "    <tr>\n",
       "      <th>0</th>\n",
       "      <td>26</td>\n",
       "      <td>logistic</td>\n",
       "      <td>3</td>\n",
       "      <td>6</td>\n",
       "      <td>0.000525</td>\n",
       "      <td>1.0</td>\n",
       "      <td>0.0</td>\n",
       "    </tr>\n",
       "  </tbody>\n",
       "</table>\n",
       "</div>"
      ],
      "text/plain": [
       "  Number of iteration Activation nLayer nHiddenNeuron      Loss  RSquare  \\\n",
       "0                   1   identity      1             1  0.666290     -1.0   \n",
       "0                  40       tanh      4            10  0.000112      1.0   \n",
       "0                  38       relu      4             8  0.000071      1.0   \n",
       "0                  26   logistic      3             6  0.000525      1.0   \n",
       "\n",
       "   Misclassification  \n",
       "0                0.5  \n",
       "0                0.0  \n",
       "0                0.0  \n",
       "0                0.0  "
      ]
     },
     "execution_count": 22,
     "metadata": {},
     "output_type": "execute_result"
    }
   ],
   "source": [
    "nX = [identity_mcr,tanh_mcr,relu_mcr,logistic_mcr]\n",
    "result = pd.DataFrame(columns = ['Number of iteration','Activation','nLayer', 'nHiddenNeuron', 'Loss', 'RSquare','Misclassification'])\n",
    "for i in nX:\n",
    "    x1=(i.loc[i['Loss'].idxmin()]).name\n",
    "    x2=(i.loc[i['Loss'].idxmin()]).values.tolist()\n",
    "    result = result.append(pd.DataFrame([[x1+1,x2[0],x2[1],x2[2],x2[3],x2[4],x2[5]]], \n",
    "                               columns = ['Number of iteration','Activation','nLayer', 'nHiddenNeuron', 'Loss', 'RSquare','Misclassification']))\n",
    "\n",
    "result=result[['Number of iteration','Activation','nLayer', 'nHiddenNeuron', 'Loss', 'RSquare','Misclassification']]\n",
    "result"
   ]
  },
  {
   "cell_type": "code",
   "execution_count": 23,
   "metadata": {},
   "outputs": [],
   "source": [
    "def Build_NN_relu_result(nLayer, nHiddenNeuron):\n",
    "    # Build Neural Network\n",
    "    nnObj = nn.MLPClassifier(hidden_layer_sizes = (nHiddenNeuron,)*nLayer,\n",
    "                            activation = 'relu', verbose = False,\n",
    "                            solver = 'lbfgs', learning_rate_init = 0.1,\n",
    "                            max_iter = 5000, random_state = 20191108)\n",
    "    thisFit = nnObj.fit(X, y) \n",
    "    y_pred = nnObj.predict(X)\n",
    "    Loss = nnObj.loss_\n",
    "    yproba = nnObj.predict_proba(X)\n",
    "    RSquare = metrics.r2_score(y, y_pred)\n",
    "    Missclassification = 1 - metrics.accuracy_score(y, y_pred)    \n",
    "    return (Loss, RSquare, Missclassification, y_pred, yproba)"
   ]
  },
  {
   "cell_type": "code",
   "execution_count": 24,
   "metadata": {},
   "outputs": [
    {
     "data": {
      "image/png": "[encoded data removed]",
      "text/plain": [
       "<Figure size 432x288 with 1 Axes>"
      ]
     },
     "metadata": {
      "needs_background": "light"
     },
     "output_type": "display_data"
    },
    {
     "name": "stdout",
     "output_type": "stream",
     "text": [
      "Mean: 0.0000039436\n",
      "Standard Deviaiton: 0.0000133533\n"
     ]
    }
   ],
   "source": [
    "result = pd.DataFrame(columns = ['Activation','nLayer', 'nHiddenNeuron', 'Loss', 'RSquare','Misclassification'])\n",
    "act=[\"identity\", \"logistic\", \"tanh\", \"relu\"]\n",
    "Loss, RSquare, Accuracy,column,pred_prob = Build_NN_relu_result(nLayer = 4, nHiddenNeuron = 8)\n",
    "color=[]\n",
    "spectral_cluster_1=[]\n",
    "spectral_cluster_0=[]\n",
    "pred_prob=list(pred_prob)\n",
    "for i in range(len(column)):\n",
    "    if(column[i]==0):\n",
    "        color.append('Red')\n",
    "        spectral_cluster_0.append(pred_prob[i])\n",
    "    else:\n",
    "        color.append('Blue')\n",
    "        spectral_cluster_1.append(pred_prob[i])\n",
    "plt.scatter(dataset['x'],dataset['y'], c=color)\n",
    "plt.show()\n",
    "x_spectral_cluster=[]\n",
    "y_spectral_cluster=[]\n",
    "for i in spectral_cluster_1:\n",
    "    x_spectral_cluster.append(i[0])\n",
    "    y_spectral_cluster.append(i[1])\n",
    "mean=st.mean(x_spectral_cluster)\n",
    "print('Mean:',format(mean, '.10f'))\n",
    "print('Standard Deviaiton:',format(st.stdev(y_spectral_cluster), '.10f'))"
   ]
  },
  {
   "cell_type": "code",
   "execution_count": 33,
   "metadata": {},
   "outputs": [
    {
     "name": "stdout",
     "output_type": "stream",
     "text": [
      "Mean Accuracy =  0.55\n",
      "Intercept =  [1.7610532]\n",
      "Coefficients =  [[-0.57239859 -0.05567796]]\n"
     ]
    },
    {
     "data": {
      "text/plain": [
       "<matplotlib.collections.PathCollection at 0x229fa863550>"
      ]
     },
     "execution_count": 33,
     "metadata": {},
     "output_type": "execute_result"
    },
    {
     "data": {
      "image/png": "[encoded data removed]",
      "text/plain": [
       "<Figure size 432x288 with 1 Axes>"
      ]
     },
     "metadata": {
      "needs_background": "light"
     },
     "output_type": "display_data"
    }
   ],
   "source": [
    "def getArcTan (z):\n",
    "    theta = np.where(z < 0.0, 2.0*np.pi+z, z)\n",
    "    return (theta)\n",
    "\n",
    "dataset['radius'] = np.sqrt(dataset['x']**2 + dataset['y']**2)\n",
    "dataset['theta'] = np.arctan2(dataset['y'],dataset['x'])\n",
    "dataset['theta'] = dataset['theta'].apply(getArcTan)\n",
    "\n",
    "XTrain = dataset[['radius','theta']]\n",
    "yTrain = dataset['SpectralCluster']\n",
    "\n",
    "svm_Model = svm.SVC(kernel = 'linear', decision_function_shape = 'ovr',\n",
    "                    random_state = 20191106, max_iter = -1)\n",
    "fit = svm_Model.fit(XTrain, yTrain) \n",
    "y_predictClass = fit.predict(XTrain)\n",
    "\n",
    "print('Mean Accuracy = ', metrics.accuracy_score(yTrain, y_predictClass))\n",
    "dataset['_PredictedClass_'] = y_predictClass\n",
    "\n",
    "print('Intercept = ', fit.intercept_)\n",
    "print('Coefficients = ', fit.coef_)\n",
    "a=fit.coef_[0][0]\n",
    "b=fit.coef_[0][1]\n",
    "x = np.linspace(-3, 3)\n",
    "y = np.zeros((len(x),3))\n",
    "c=fit.coef_\n",
    "for j in range(len(fit.coef_)):\n",
    "    w = fit.coef_[j,:]\n",
    "    a = -w[0] / w[1]\n",
    "    y[:,j] = a * x - (fit.intercept_[j]) / w[1]\n",
    "plt.axis([-2,5,0,10])\n",
    "plt.plot(x,y, ':')\n",
    "plt.scatter(dataset['radius'],dataset['theta'], c=color)\n"
   ]
  },
  {
   "cell_type": "code",
   "execution_count": 25,
   "metadata": {},
   "outputs": [],
   "source": [
    "#----------------------------------------------------------------------------------------------------------------------------\n",
    "#Q2\n",
    "\n",
    "\n",
    "from sklearn import svm\n",
    "XTrain=dataset[['x', 'y']] \n",
    "yTrain=dataset['SpectralCluster']\n",
    "\n",
    "XTrain.head()\n",
    "\n",
    "yTrain.head()\n",
    "\n",
    "svmModel = svm.SVC(kernel = 'linear', random_state = 20191106, max_iter=-1)\n",
    "fit = svmModel.fit(XTrain, yTrain)\n",
    "yClassPrediction = fit.predict(XTrain)\n",
    "w = fit.coef_[0]\n",
    "a = -w[0] / w[1]\n",
    "print(\"Accuracy = \", metrics.accuracy_score(yTrain, yClassPrediction))\n",
    "print(\"Misclassficiation rate\",1-metrics.accuracy_score(yTrain,yClassPrediction))\n",
    "dataset['_PredictedClass_'] = yClassPrediction\n",
    "svm_Mean = dataset.groupby('_PredictedClass_').mean()\n",
    "svm_Mean.head()\n",
    "\n",
    "w = fit.coef_[0]\n",
    "a = -w[0] / w[1]\n",
    "\n",
    "print(\"Coefficients \",w)\n",
    "\n",
    "equation = \"{}x + {}y + {} = 0\".format(w[0],w[1],fit.intercept_[0])\n",
    "print('Equation:',equation)\n",
    "\n",
    "print('Intercept = ', fit.intercept_)\n",
    "print('Coefficients = ', fit.coef_)\n",
    "\n",
    "xx = np.linspace(-6, 6)\n",
    "yy = np.zeros((len(xx),3))\n",
    "for j in range(len(fit.coef_)):\n",
    "    w = fit.coef_[j,:]\n",
    "    a = -w[0] / w[1]\n",
    "    yy[:,j] = a * xx - (fit.intercept_[j]) / w[1]\n",
    "    #print(yy)\n",
    "\n",
    "a=fit.coef_[0][0]\n",
    "b=fit.coef_[0][1]\n",
    "x = np.linspace(-6, 6)\n",
    "y = np.zeros((len(x),3))\n",
    "c=fit.coef_\n",
    "#y=(c-(a*x))/b\n",
    "for j in range(len(fit.coef_)):\n",
    "    w = fit.coef_[j,:]\n",
    "    a = -w[0] / w[1]\n",
    "    y[:,j] = a * x - (fit.intercept_[j]) / w[1]\n",
    "    #print(yy)\n",
    "plt.plot(x, y, ':')\n",
    "plt.scatter(dataset['x'],dataset['y'], c=color)\n"
   ]
  },
  {
   "cell_type": "code",
   "execution_count": 43,
   "metadata": {},
   "outputs": [
    {
     "data": {
      "text/plain": [
       "<matplotlib.collections.PathCollection at 0x229fa9964a8>"
      ]
     },
     "execution_count": 43,
     "metadata": {},
     "output_type": "execute_result"
    },
    {
     "data": {
      "image/png": "[encoded data removed]",
      "text/plain": [
       "<Figure size 432x288 with 1 Axes>"
      ]
     },
     "metadata": {
      "needs_background": "light"
     },
     "output_type": "display_data"
    }
   ],
   "source": [
    "groups = []\n",
    "points=[]\n",
    "for i in range(len(dataset['theta'])):\n",
    "    temp=[]\n",
    "    temp.append(dataset['radius'][i])\n",
    "    temp.append(dataset['theta'][i])\n",
    "    points.append(temp)\n",
    "    \n",
    "# Manual Separation\n",
    "for i in range(100):\n",
    "    if(points[i][0]<1.7 and points[i][1]>6 and column[i]==0):\n",
    "        groups.append(0)\n",
    "    elif(points[i][0]>0 and points[i][0]<3 and points[i][1]>2.8 and column[i]==1):\n",
    "        groups.append(1)\n",
    "    elif(points[i][0]>2.5 and points[i][1]<3.2 and column[i]==1):\n",
    "        groups.append(3)\n",
    "    else:\n",
    "        groups.append(2)\n",
    "Counter(groups)\n",
    "dataset['Group']=groups\n",
    "ncolor = []\n",
    "for i in groups:\n",
    "    if i==0:\n",
    "        ncolor.append('red')\n",
    "    elif i==1:\n",
    "        ncolor.append('blue')\n",
    "    elif i==2:\n",
    "        ncolor.append('green')\n",
    "    else:\n",
    "        ncolor.append('black')\n",
    "plt.scatter(dataset['radius'],dataset['theta'], c=ncolor)"
   ]
  },
  {
   "cell_type": "code",
   "execution_count": 35,
   "metadata": {
    "scrolled": true
   },
   "outputs": [],
   "source": [
    "# interc=[1.00003674,0.99999888,-1.92985156]\n",
    "# coeff=[[-0.00024189,-0.00293195],[0.0000049095,0.0000014375],[0.02273196,1.02904755]]\n",
    "intercepts = []\n",
    "coefficients = []"
   ]
  },
  {
   "cell_type": "code",
   "execution_count": 36,
   "metadata": {},
   "outputs": [
    {
     "name": "stdout",
     "output_type": "stream",
     "text": [
      "Mean Accuracy =  0.9629629629629629\n",
      "Intercept =  [1.00003674]\n",
      "Coefficients =  [[-0.00024189 -0.00293195]]\n",
      "Total Intercepts: [array([1.00003674])]\n",
      "Total Coefficients: [array([[-0.00024189, -0.00293195]])]\n"
     ]
    }
   ],
   "source": [
    "group0 = dataset[dataset['Group'] == 1]\n",
    "group1 = dataset[dataset['Group'] == 0]\n",
    "groupData = pd.concat([group0, group1])\n",
    "xTrain = groupData[['x','y']]\n",
    "yTrain = groupData['Group']\n",
    "\n",
    "svm_Model = svm.SVC(kernel = 'linear', decision_function_shape = 'ovr',\n",
    "                    random_state = 20191106, max_iter = -1)\n",
    "fit = svm_Model.fit(xTrain, yTrain) \n",
    "y_predictClass = fit.predict(xTrain)\n",
    "\n",
    "print('Mean Accuracy = ', metrics.accuracy_score(yTrain, y_predictClass))\n",
    "groupData['_PredictedClass_01'] = y_predictClass\n",
    "\n",
    "print('Intercept = ', fit.intercept_)\n",
    "print('Coefficients = ', fit.coef_)\n",
    "\n",
    "intercepts.append(fit.intercept_)\n",
    "coefficients.append(fit.coef_)\n",
    "print('Total Intercepts:',intercepts)\n",
    "print('Total Coefficients:',coefficients)"
   ]
  },
  {
   "cell_type": "code",
   "execution_count": 37,
   "metadata": {},
   "outputs": [
    {
     "name": "stdout",
     "output_type": "stream",
     "text": [
      "Mean Accuracy =  0.6533333333333333\n",
      "Intercept =  [0.99999888]\n",
      "Coefficients =  [[4.90954101e-06 1.43747636e-06]]\n",
      "Total Intercepts: [array([1.00003674]), array([0.99999888])]\n",
      "Total Coefficients: [array([[-0.00024189, -0.00293195]]), array([[4.90954101e-06, 1.43747636e-06]])]\n"
     ]
    }
   ],
   "source": [
    "group2 = dataset[dataset['Group'] == 2]\n",
    "group1 = dataset[dataset['Group'] == 1]\n",
    "groupData = pd.concat([group2, group1])\n",
    "xTrain = groupData[['x','y']]\n",
    "yTrain = groupData['Group']\n",
    "\n",
    "svm_Model = svm.SVC(kernel = 'linear', decision_function_shape = 'ovr',\n",
    "                    random_state = 20191106, max_iter = -1)\n",
    "fit = svm_Model.fit(xTrain, yTrain) \n",
    "y_predictClass = fit.predict(xTrain)\n",
    "\n",
    "print('Mean Accuracy = ', metrics.accuracy_score(yTrain, y_predictClass))\n",
    "groupData['_PredictedClass_01'] = y_predictClass\n",
    "\n",
    "print('Intercept = ', fit.intercept_)\n",
    "print('Coefficients = ', fit.coef_)\n",
    "intercepts.append(fit.intercept_)\n",
    "coefficients.append(fit.coef_)\n",
    "print('Total Intercepts:',intercepts)\n",
    "print('Total Coefficients:',coefficients)"
   ]
  },
  {
   "cell_type": "code",
   "execution_count": 38,
   "metadata": {},
   "outputs": [
    {
     "name": "stdout",
     "output_type": "stream",
     "text": [
      "Mean Accuracy =  0.8082191780821918\n",
      "Intercept =  [-1.92985156]\n",
      "Coefficients =  [[0.02273196 1.02904755]]\n",
      "Total Intercepts: [array([1.00003674]), array([0.99999888]), array([-1.92985156])]\n",
      "Total Coefficients: [array([[-0.00024189, -0.00293195]]), array([[4.90954101e-06, 1.43747636e-06]]), array([[0.02273196, 1.02904755]])]\n"
     ]
    }
   ],
   "source": [
    "group3 = dataset[dataset['Group'] == 3]\n",
    "group2 = dataset[dataset['Group'] == 2]\n",
    "groupData = pd.concat([group3, group2])\n",
    "xTrain = groupData[['x','y']]\n",
    "yTrain = groupData['Group']\n",
    "\n",
    "svm_Model = svm.SVC(kernel = 'linear', decision_function_shape = 'ovr',\n",
    "                    random_state = 20191106, max_iter = -1)\n",
    "fit = svm_Model.fit(xTrain, yTrain) \n",
    "y_predictClass = fit.predict(xTrain)\n",
    "\n",
    "print('Mean Accuracy = ', metrics.accuracy_score(yTrain, y_predictClass))\n",
    "groupData['_PredictedClass_01'] = y_predictClass\n",
    "\n",
    "print('Intercept = ', fit.intercept_)\n",
    "print('Coefficients = ', fit.coef_)\n",
    "intercepts.append(fit.intercept_)\n",
    "coefficients.append(fit.coef_)\n",
    "print('Total Intercepts:',intercepts)\n",
    "print('Total Coefficients:',coefficients)"
   ]
  },
  {
   "cell_type": "code",
   "execution_count": 39,
   "metadata": {},
   "outputs": [
    {
     "data": {
      "text/plain": [
       "<matplotlib.collections.PathCollection at 0x229fa9392e8>"
      ]
     },
     "execution_count": 39,
     "metadata": {},
     "output_type": "execute_result"
    },
    {
     "data": {
      "image/png": "[encoded data removed]",
      "text/plain": [
       "<Figure size 432x288 with 1 Axes>"
      ]
     },
     "metadata": {
      "needs_background": "light"
     },
     "output_type": "display_data"
    }
   ],
   "source": [
    "for j in range(len(intercepts)):\n",
    "    w = coefficients[j].flatten()\n",
    "    a = -w[0] / w[1]\n",
    "    yy[:,j] = a * xx - (intercepts[j]) / w[1]\n",
    "# print(yy)\n",
    "plt.axis([0,10,-1,10])\n",
    "plt.scatter(x = dataset['radius'],y = dataset['theta'],c = ncolor , s = 25)\n",
    "\n"
   ]
  },
  {
   "cell_type": "code",
   "execution_count": 40,
   "metadata": {},
   "outputs": [
    {
     "data": {
      "text/plain": [
       "[array([1.00003674]), array([0.99999888]), array([-1.92985156])]"
      ]
     },
     "execution_count": 40,
     "metadata": {},
     "output_type": "execute_result"
    }
   ],
   "source": [
    "intercepts"
   ]
  },
  {
   "cell_type": "code",
   "execution_count": 41,
   "metadata": {},
   "outputs": [
    {
     "data": {
      "text/plain": [
       "-0.00024188555628174067"
      ]
     },
     "execution_count": 41,
     "metadata": {},
     "output_type": "execute_result"
    }
   ],
   "source": [
    "coefficients[0].flatten()[0]"
   ]
  },
  {
   "cell_type": "code",
   "execution_count": 42,
   "metadata": {},
   "outputs": [
    {
     "data": {
      "text/plain": [
       "[<matplotlib.lines.Line2D at 0x229fa9582e8>]"
      ]
     },
     "execution_count": 42,
     "metadata": {},
     "output_type": "execute_result"
    },
    {
     "data": {
      "image/png": "[encoded data removed]",
      "text/plain": [
       "<Figure size 432x288 with 1 Axes>"
      ]
     },
     "metadata": {
      "needs_background": "light"
     },
     "output_type": "display_data"
    }
   ],
   "source": [
    "groups = []\n",
    "points=[]\n",
    "for i in range(len(dataset['theta'])):\n",
    "    temp=[]\n",
    "    temp.append(dataset['radius'][i])\n",
    "    temp.append(dataset['theta'][i])\n",
    "    points.append(temp)\n",
    "    \n",
    "# Manual Separation\n",
    "for i in range(100):\n",
    "    if(points[i][0]<1.7 and points[i][1]>6 and column[i]==0):\n",
    "        groups.append(0)\n",
    "    elif(points[i][0]>0 and points[i][0]<3 and points[i][1]>2.8 and column[i]==1):\n",
    "        groups.append(1)\n",
    "    elif(points[i][0]>2.5 and points[i][1]<3.2 and column[i]==1):\n",
    "        groups.append(3)\n",
    "    else:\n",
    "        groups.append(2)\n",
    "Counter(groups)\n",
    "dataset['Group']=groups\n",
    "ncolor = []\n",
    "for i in groups:\n",
    "    if i==0:\n",
    "        ncolor.append('red')\n",
    "    elif i==1:\n",
    "        ncolor.append('blue')\n",
    "    elif i==2:\n",
    "        ncolor.append('green')\n",
    "    else:\n",
    "        ncolor.append('black')\n",
    "plt.scatter(dataset['radius'],dataset['theta'], c=ncolor)\n",
    "plt.plot(xx, yy[:,0], color = 'black', linestyle = '-')\n",
    "plt.plot(xx, yy[:,1], color = 'black', linestyle = '-')\n",
    "plt.plot(xx, yy[:,2], color = 'black', linestyle = '-')"
   ]
  },
  {
   "cell_type": "code",
   "execution_count": null,
   "metadata": {},
   "outputs": [],
   "source": []
  }
 ],
 "metadata": {
  "kernelspec": {
   "display_name": "Python 3",
   "language": "python",
   "name": "python3"
  },
  "language_info": {
   "codemirror_mode": {
    "name": "ipython",
    "version": 3
   },
   "file_extension": ".py",
   "mimetype": "text/x-python",
   "name": "python",
   "nbconvert_exporter": "python",
   "pygments_lexer": "ipython3",
   "version": "3.7.0"
  }
 },
 "nbformat": 4,
 "nbformat_minor": 2
}
